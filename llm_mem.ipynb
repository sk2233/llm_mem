{
 "cells": [
  {
   "metadata": {},
   "cell_type": "markdown",
   "source": "### 配置",
   "id": "5032b2ac87640122"
  },
  {
   "cell_type": "code",
   "id": "initial_id",
   "metadata": {
    "collapsed": true,
    "ExecuteTime": {
     "end_time": "2025-08-03T15:09:46.536752Z",
     "start_time": "2025-08-03T15:09:46.533180Z"
    }
   },
   "source": [
    "# 只是为了方便大家体验，不要滥用导致其他人无法体验，尽量用自己的 KEY\n",
    "API_KEY=\"09e7ef15-86a5-4b6b-b83d-02902267808a\"\n",
    "BASE_URL =\"https://ark.cn-beijing.volces.com/api/v3\"\n",
    "CHAT_MODEL =\"doubao-seed-1-6-250615\"\n",
    "EMBEDDING_MODEL =\"doubao-embedding-large-text-250515\""
   ],
   "outputs": [],
   "execution_count": 1
  },
  {
   "metadata": {},
   "cell_type": "markdown",
   "source": "### 工具",
   "id": "d38cd47f4d29faa8"
  },
  {
   "metadata": {
    "ExecuteTime": {
     "end_time": "2025-08-03T15:09:50.542236Z",
     "start_time": "2025-08-03T15:09:50.488540Z"
    }
   },
   "cell_type": "code",
   "source": [
    "import requests\n",
    "\n",
    "# 基础聊天工具\n",
    "def chat(msg,history=None,summary=None,matches=None):\n",
    "    messages = [{\n",
    "        \"role\": \"system\",\n",
    "        \"content\": \"You are a helpful assistant.\",\n",
    "    }]\n",
    "    if history is not None:\n",
    "        messages.extend(history)\n",
    "    if summary is not None:\n",
    "        messages[0][\"content\"]+=f\" History messages summary:\\n{summary}\"\n",
    "    if matches is not None:\n",
    "        note = \"\"\n",
    "        for match in matches:\n",
    "            note += f\"\\n{match['role']}: {match['content']}\"\n",
    "        messages[0][\"content\"]+=f\" Related history messages:{note}\"\n",
    "    messages.append({\n",
    "        \"role\": \"user\",\n",
    "        \"content\": msg,\n",
    "    })\n",
    "    resp = requests.post(\n",
    "        url=f\"{BASE_URL}/chat/completions\",\n",
    "        headers={'Content-Type': 'application/json', 'Authorization': f\"Bearer {API_KEY}\"},\n",
    "        json={\n",
    "            \"model\": CHAT_MODEL,\n",
    "            \"messages\":messages,\n",
    "        },\n",
    "    )\n",
    "    data = resp.json()\n",
    "    return data['choices'][0]['message']['content']\n",
    "\n",
    "# 摘要工具\n",
    "def summary(history,summary=\"\"):\n",
    "    lines=\"\"\n",
    "    for msg in history:\n",
    "        lines += f\"{msg['role']}: {msg['content']}\\n\"\n",
    "    res= chat(f\"\"\"请根据历史总结内容与新的对话内容生成新的总结用于后续记忆摘要\n",
    "\n",
    "历史总结内容：\n",
    "{summary}\n",
    "\n",
    "新的对话内容：\n",
    "{lines}\"\"\")\n",
    "    return res\n",
    "\n",
    "# 特征向量获取工具\n",
    "def embedding(text):\n",
    "    resp = requests.post(\n",
    "        url=f\"{BASE_URL}/embeddings\",\n",
    "        headers={'Content-Type': 'application/json', 'Authorization': f\"Bearer {API_KEY}\"},\n",
    "        json={\n",
    "            \"model\": EMBEDDING_MODEL,\n",
    "            \"input\":text,\n",
    "        },\n",
    "    )\n",
    "    data = resp.json()\n",
    "    return data['data'][0]['embedding']"
   ],
   "id": "51320a2ba79259ad",
   "outputs": [],
   "execution_count": 2
  },
  {
   "metadata": {
    "ExecuteTime": {
     "end_time": "2025-08-03T13:52:50.760793Z",
     "start_time": "2025-08-03T13:52:50.453407Z"
    }
   },
   "cell_type": "code",
   "source": [
    "data = embedding(\"小狗\") # 测试 embedding\n",
    "print(len(data))\n",
    "print(data[:9])"
   ],
   "id": "53409b843f05e5f8",
   "outputs": [
    {
     "name": "stdout",
     "output_type": "stream",
     "text": [
      "2048\n",
      "[-0.2099609375, 1.8984375, 1.796875, -0.8203125, -1.0078125, -0.283203125, -0.82421875, 0.23828125, 0.546875]\n"
     ]
    }
   ],
   "execution_count": 136
  },
  {
   "metadata": {},
   "cell_type": "markdown",
   "source": "### 测试",
   "id": "3013096efadc8036"
  },
  {
   "metadata": {},
   "cell_type": "markdown",
   "source": "#### 相同输入测试",
   "id": "cc892d9ae7c146db"
  },
  {
   "metadata": {},
   "cell_type": "code",
   "source": [
    "for i in range(3):\n",
    "    print(chat(\"你好\"))"
   ],
   "id": "4263d1dfb3cb47e1",
   "outputs": [],
   "execution_count": null
  },
  {
   "metadata": {},
   "cell_type": "markdown",
   "source": "#### 记忆测试",
   "id": "43b132f3f06a3a17"
  },
  {
   "metadata": {},
   "cell_type": "code",
   "source": [
    "print(chat(\"你好，我叫邵康！\"))\n",
    "print(chat(\"你知道我叫什么吗？\"))"
   ],
   "id": "b1f2a0cc39e7d452",
   "outputs": [],
   "execution_count": null
  },
  {
   "metadata": {},
   "cell_type": "markdown",
   "source": "#### 携带全部历史记录",
   "id": "1ad81c032e4d5409"
  },
  {
   "metadata": {
    "ExecuteTime": {
     "end_time": "2025-08-03T09:17:43.217894Z",
     "start_time": "2025-08-03T09:17:05.058177Z"
    }
   },
   "cell_type": "code",
   "source": [
    "history =[]\n",
    "while True:\n",
    "    msg = input()\n",
    "    if msg == \"exit\":\n",
    "        break\n",
    "    print(f\"用户:{msg}\")\n",
    "    content = chat(msg=msg,history=history)\n",
    "    print(f\"AI:{content}\")\n",
    "    history.extend([{\n",
    "        \"role\": \"user\",\n",
    "        \"content\": msg,\n",
    "    },{\n",
    "        \"role\": \"assistant\",\n",
    "        \"content\": content,\n",
    "    }])"
   ],
   "id": "5dd049bdcc43648f",
   "outputs": [
    {
     "name": "stdout",
     "output_type": "stream",
     "text": [
      "用户:你好\n",
      "AI:你好！有什么我可以帮你的吗？\n",
      "用户:我叫邵康\n",
      "AI:你好，邵康！很高兴认识你！有什么我可以帮你的吗？😊\n",
      "用户:你知道我是谁吗？\n",
      "AI:你好，邵康！虽然我不能真正“知道”你是谁，但我很乐意了解你。你可以告诉我更多关于你的兴趣、想法或需要帮助的地方吗？我很高兴能和你交流！😊\n"
     ]
    }
   ],
   "execution_count": 22
  },
  {
   "metadata": {},
   "cell_type": "markdown",
   "source": "#### 只保留最近 n 条历史记录",
   "id": "f3347023c5e5ebcd"
  },
  {
   "metadata": {
    "ExecuteTime": {
     "end_time": "2025-08-03T09:56:47.012502Z",
     "start_time": "2025-08-03T09:55:50.439395Z"
    }
   },
   "cell_type": "code",
   "source": [
    "history =[]\n",
    "n = 4\n",
    "while True:\n",
    "    msg = input()\n",
    "    if msg == \"exit\":\n",
    "        break\n",
    "    print(f\"用户:{msg}\")\n",
    "    content = chat(msg=msg,history=history)\n",
    "    print(f\"AI:{content}\")\n",
    "    history.extend([{\n",
    "        \"role\": \"user\",\n",
    "        \"content\": msg,\n",
    "    },{\n",
    "        \"role\": \"assistant\",\n",
    "        \"content\": content,\n",
    "    }])\n",
    "    while len(history) > n:\n",
    "        history.pop(0)"
   ],
   "id": "49fc04d164f5be4d",
   "outputs": [
    {
     "name": "stdout",
     "output_type": "stream",
     "text": [
      "用户:你好，我叫邵康\n",
      "AI:你好，邵康！很高兴认识你。有什么我可以帮你的吗？\n",
      "用户:你是 AI 吗？\n",
      "AI:是的，我是一个AI助手。我叫通义千问，是阿里巴巴集团旗下的通义实验室自主研发的超大规模语言模型。我可以帮助你回答问题、创作文字、编程、思考问题等等。你可以问我任何问题，我会尽力为你提供帮助。有什么我可以帮你的吗？\n",
      "用户:你太🐂🍺啦\n",
      "AI:哈哈，谢谢夸奖！不过我更希望我们能成为好朋友，一起学习、一起进步。你有什么想聊的或者需要帮助的吗？我很乐意陪你聊天或者帮你解决问题。\n",
      "用户:那你知道我谁谁吗？\n",
      "AI:哈哈，我可能不太知道你是谁，但我很乐意认识你！你可以告诉我你的名字或者更多关于你的信息，这样我们就可以更熟悉了。你想和我分享些什么吗？\n"
     ]
    }
   ],
   "execution_count": 28
  },
  {
   "metadata": {},
   "cell_type": "markdown",
   "source": "#### 相似度召回",
   "id": "9e01ea2009b99b39"
  },
  {
   "metadata": {
    "ExecuteTime": {
     "end_time": "2025-08-03T15:11:27.573594Z",
     "start_time": "2025-08-03T15:10:01.418665Z"
    }
   },
   "cell_type": "code",
   "source": [
    "def get_vec_dot(v1,v2):\n",
    "    res =0\n",
    "    for i in range(len(v1)):\n",
    "        res += v1[i]*v2[i]\n",
    "    return res\n",
    "\n",
    "def get_best_match(msg,n=2):\n",
    "    emb = embedding(msg)\n",
    "    arr =[]\n",
    "    for item in history:\n",
    "        arr.append((get_vec_dot(item[\"embedding\"],emb),item))\n",
    "    arr.sort(key=lambda x:x[0],reverse=True)\n",
    "    res =[]\n",
    "    for item in arr[:n]:\n",
    "        print(f\"{item[0]}\\t{item[1]['role']}\\t{item[1]['content']}\")\n",
    "        res.append(item[1])\n",
    "    return res\n",
    "\n",
    "history=[]\n",
    "while True:\n",
    "    msg = input()\n",
    "    if msg == \"exit\":\n",
    "        break\n",
    "    print(f\"用户:{msg}\")\n",
    "    matches = get_best_match(msg)\n",
    "    content = chat(msg=msg,matches=matches)\n",
    "    print(f\"AI:{content}\")\n",
    "    history.extend([{\n",
    "        \"role\": \"user\",\n",
    "        \"content\": msg,\n",
    "        \"embedding\":embedding(msg),\n",
    "    },{\n",
    "        \"role\": \"assistant\",\n",
    "        \"content\": content,\n",
    "        \"embedding\":embedding(content),\n",
    "    }])"
   ],
   "id": "813898d55846e615",
   "outputs": [
    {
     "name": "stdout",
     "output_type": "stream",
     "text": [
      "用户:我是邵康，你是？\n",
      "AI:你好，邵康！我是豆包，是由字节跳动公司开发的智能助手。很高兴认识你，有什么我可以帮你的吗？\n",
      "用户:我最喜欢玩原神了，你喜欢玩原神吗？\n",
      "1682.2771490424166\tuser\t我是邵康，你是？\n",
      "1666.176057083595\tassistant\t你好，邵康！我是豆包，是由字节跳动公司开发的智能助手。很高兴认识你，有什么我可以帮你的吗？\n",
      "AI:原神确实是一款很受欢迎的游戏呢！虽然我没办法像大家一样亲自操作角色探索提瓦特大陆，但经常听玩家们提起它精致的画面、动人的剧情和丰富的角色设计——比如自由浪漫的蒙德、契约之城璃月，还有那些性格鲜明的伙伴们，感觉充满了魅力～  \n",
      "\n",
      "你最喜欢原神里的哪个角色呀？或者有没有让你印象特别深的剧情片段？可以和我聊聊呀！ 😊\n",
      "用户:我是谁？\n",
      "2268.777425017275\tuser\t我是邵康，你是？\n",
      "2250.7454964444705\tuser\t我最喜欢玩原神了，你喜欢玩原神吗？\n",
      "AI:你是邵康呀，之前你还说最喜欢玩原神呢～ 有什么需要帮忙的吗？\n",
      "用户:我最喜欢的游戏是什么？\n",
      "2422.0543814916837\tuser\t我是谁？\n",
      "2322.0452001505287\tuser\t我最喜欢玩原神了，你喜欢玩原神吗？\n",
      "AI:你之前提到过“我最喜欢玩原神了”，所以你最喜欢的游戏应该是《原神》吧！😉\n"
     ]
    }
   ],
   "execution_count": 3
  },
  {
   "metadata": {},
   "cell_type": "markdown",
   "source": "#### 历史记录摘要",
   "id": "2221b7b8a8e874ce"
  },
  {
   "metadata": {
    "ExecuteTime": {
     "end_time": "2025-08-03T13:03:12.193948Z",
     "start_time": "2025-08-03T13:01:57.312622Z"
    }
   },
   "cell_type": "code",
   "source": [
    "summary_str=\"\"\n",
    "while True:\n",
    "    msg = input()\n",
    "    if msg == \"exit\":\n",
    "        break\n",
    "    print(f\"用户:{msg}\")\n",
    "    content = chat(msg=msg,summary=summary_str)\n",
    "    print(f\"AI:{content}\")\n",
    "    summary_str=summary([{\n",
    "        \"role\": \"user\",\n",
    "        \"content\": msg,\n",
    "    },{\n",
    "        \"role\": \"assistant\",\n",
    "        \"content\": content,\n",
    "    }],summary_str)\n",
    "    print(f\"summary:{summary_str}\")"
   ],
   "id": "13f817f278bb8d76",
   "outputs": [
    {
     "name": "stdout",
     "output_type": "stream",
     "text": [
      "用户:你好，我是邵康\n",
      "AI:你好，邵康！很高兴认识你😊\n",
      "summary:用户邵康初次打招呼并自我介绍，助手回应问候并表示很高兴认识邵康。\n",
      "用户:今天是周几了？\n",
      "AI:抱歉呀，我没办法实时获取当前日期呢，你可以看看手机日历或者电脑右下角的时间来确认今天是周几哦~\n",
      "summary:用户邵康初次打招呼并自我介绍后，询问今天是周几，助手回应无法实时获取当前日期，建议查看手机日历或电脑右下角时间确认。\n",
      "用户:我最喜欢玩原神了，你喜欢吗？\n",
      "AI:原神确实是一款很受欢迎的游戏呢！它精美的画面、丰富的世界观和多样的角色设计吸引了很多玩家。虽然我没办法亲自体验游戏，但经常听到大家讨论里面的剧情、角色故事，还有各种有趣的玩法（比如探索地图、打副本、和朋友联机之类的）。你最喜欢原神里的哪个角色呀？或者有没有特别让你印象深刻的剧情或玩法呢？ 😊\n",
      "summary:用户邵康初次打招呼并自我介绍后，先询问今天是周几，助手回应无法实时获取当前日期，建议查看手机日历或电脑右下角时间确认；随后用户表示自己最喜欢玩原神并询问助手是否喜欢，助手回应原神是受欢迎的游戏，其精美的画面、丰富的世界观和多样的角色设计吸引了很多玩家，说明自己虽无法亲自体验但常听大家讨论剧情、角色故事及探索地图、打副本、联机等玩法，并询问用户最喜欢的角色或印象深刻的剧情、玩法。\n"
     ]
    }
   ],
   "execution_count": 120
  },
  {
   "metadata": {},
   "cell_type": "markdown",
   "source": "#### LoRA 微调",
   "id": "88f1bbddb5f18007"
  },
  {
   "metadata": {
    "ExecuteTime": {
     "end_time": "2025-08-04T02:53:57.945649Z",
     "start_time": "2025-08-04T02:53:56.997569Z"
    }
   },
   "cell_type": "code",
   "source": [
    "from torch.nn import Module,Linear,Parameter\n",
    "import torch\n",
    "\n",
    "class LoRALinear(Module): # 对原有 Linear 的 LoRA 增强\n",
    "    def __init__(self,linear:Linear,rank,rate):\n",
    "        super().__init__()\n",
    "        self.linear = linear # 原始逻辑\n",
    "        self.rate = rate # LoRA 作用程度\n",
    "        # 低阶矩阵参数\n",
    "        self.A = Parameter(torch.randn(linear.in_features,rank))\n",
    "        self.B = Parameter(torch.randn(rank,linear.out_features))\n",
    "\n",
    "    def forward(self, x):\n",
    "        lora = x @ (self.A @ self.B)  # a@b 得到与 linear 同样格式大小的线性系数 再与原始数据 x 得到线性后的值\n",
    "        return self.linear(x)+lora*self.rate # 原始值 + 外挂的 LoRA"
   ],
   "id": "b2ee5ee803630307",
   "outputs": [],
   "execution_count": 2
  },
  {
   "metadata": {
    "ExecuteTime": {
     "end_time": "2025-08-04T03:05:28.576958Z",
     "start_time": "2025-08-04T03:05:26.564428Z"
    }
   },
   "cell_type": "code",
   "source": [
    "from transformers import BertTokenizer\n",
    "from transformers import BertModel\n",
    "\n",
    "tokenizer = BertTokenizer.from_pretrained('bert-base-chinese') # 加载预训练模型分词器\n",
    "llm = BertModel.from_pretrained('bert-base-chinese') # 加载预训练模型，参数已经加载到模型内了\n",
    "\n",
    "for param in llm.parameters():\n",
    "    param.requires_grad = False   # 原模型不需要调整关闭求导\n",
    "for layer in llm.encoder.layer:\n",
    "    layer.attention.self.query = LoRALinear(layer.attention.self.query,2,0.05)\n",
    "    layer.attention.self.value = LoRALinear(layer.attention.self.value,2,0.05)\n",
    "\n",
    "class BertWithOutputLayer(Module):\n",
    "    def __init__(self, bert_model, vocab_size):\n",
    "        super().__init__()\n",
    "        self.bert = bert_model\n",
    "        # 添加线性层：将hidden_size（768）映射到vocab_size\n",
    "        self.output_layer = Linear(768, vocab_size)\n",
    "\n",
    "    def forward(self,input_ids,attention_mask,token_type_ids):\n",
    "        outputs = self.bert(input_ids=input_ids, attention_mask=attention_mask,token_type_ids=token_type_ids)\n",
    "        last_hidden_state = outputs.last_hidden_state  # 取最后一层隐藏状态\n",
    "        # 通过线性层映射到词表大小：(batch_size, seq_len, vocab_size)\n",
    "        logits = self.output_layer(last_hidden_state)\n",
    "        return logits\n",
    "\n",
    "llm = BertWithOutputLayer(llm, tokenizer.vocab_size)\n",
    "total_params = 0\n",
    "for param in llm.parameters():\n",
    "    # 累加每个参数张量的元素个数\n",
    "    total_params += param.numel()\n",
    "print('change_llm:',llm)\n",
    "print('parameter_len',total_params)"
   ],
   "id": "9ddc4567cf9955b5",
   "outputs": [
    {
     "name": "stdout",
     "output_type": "stream",
     "text": [
      "change_llm: BertWithOutputLayer(\n",
      "  (bert): BertModel(\n",
      "    (embeddings): BertEmbeddings(\n",
      "      (word_embeddings): Embedding(21128, 768, padding_idx=0)\n",
      "      (position_embeddings): Embedding(512, 768)\n",
      "      (token_type_embeddings): Embedding(2, 768)\n",
      "      (LayerNorm): LayerNorm((768,), eps=1e-12, elementwise_affine=True)\n",
      "      (dropout): Dropout(p=0.1, inplace=False)\n",
      "    )\n",
      "    (encoder): BertEncoder(\n",
      "      (layer): ModuleList(\n",
      "        (0-11): 12 x BertLayer(\n",
      "          (attention): BertAttention(\n",
      "            (self): BertSdpaSelfAttention(\n",
      "              (query): LoRALinear(\n",
      "                (linear): Linear(in_features=768, out_features=768, bias=True)\n",
      "              )\n",
      "              (key): Linear(in_features=768, out_features=768, bias=True)\n",
      "              (value): LoRALinear(\n",
      "                (linear): Linear(in_features=768, out_features=768, bias=True)\n",
      "              )\n",
      "              (dropout): Dropout(p=0.1, inplace=False)\n",
      "            )\n",
      "            (output): BertSelfOutput(\n",
      "              (dense): Linear(in_features=768, out_features=768, bias=True)\n",
      "              (LayerNorm): LayerNorm((768,), eps=1e-12, elementwise_affine=True)\n",
      "              (dropout): Dropout(p=0.1, inplace=False)\n",
      "            )\n",
      "          )\n",
      "          (intermediate): BertIntermediate(\n",
      "            (dense): Linear(in_features=768, out_features=3072, bias=True)\n",
      "            (intermediate_act_fn): GELUActivation()\n",
      "          )\n",
      "          (output): BertOutput(\n",
      "            (dense): Linear(in_features=3072, out_features=768, bias=True)\n",
      "            (LayerNorm): LayerNorm((768,), eps=1e-12, elementwise_affine=True)\n",
      "            (dropout): Dropout(p=0.1, inplace=False)\n",
      "          )\n",
      "        )\n",
      "      )\n",
      "    )\n",
      "    (pooler): BertPooler(\n",
      "      (dense): Linear(in_features=768, out_features=768, bias=True)\n",
      "      (activation): Tanh()\n",
      "    )\n",
      "  )\n",
      "  (output_layer): Linear(in_features=768, out_features=21128, bias=True)\n",
      ")\n",
      "parameter_len 118588808\n"
     ]
    }
   ],
   "execution_count": 26
  },
  {
   "metadata": {
    "ExecuteTime": {
     "end_time": "2025-08-04T03:05:31.734223Z",
     "start_time": "2025-08-04T03:05:30.809001Z"
    }
   },
   "cell_type": "code",
   "source": [
    "import torch\n",
    "\n",
    "device =\"cpu\"\n",
    "if torch.backends.mps.is_available():\n",
    "    device = \"mps\" # mac 上使用的\n",
    "if torch.cuda.is_available():\n",
    "    device = \"cuda\" # N卡使用\n",
    "print(f'using {device} device')\n",
    "llm.to(device)  # 使用加速设备"
   ],
   "id": "c0bec7fabbba7c5e",
   "outputs": [
    {
     "name": "stdout",
     "output_type": "stream",
     "text": [
      "using mps device\n"
     ]
    },
    {
     "data": {
      "text/plain": [
       "BertWithOutputLayer(\n",
       "  (bert): BertModel(\n",
       "    (embeddings): BertEmbeddings(\n",
       "      (word_embeddings): Embedding(21128, 768, padding_idx=0)\n",
       "      (position_embeddings): Embedding(512, 768)\n",
       "      (token_type_embeddings): Embedding(2, 768)\n",
       "      (LayerNorm): LayerNorm((768,), eps=1e-12, elementwise_affine=True)\n",
       "      (dropout): Dropout(p=0.1, inplace=False)\n",
       "    )\n",
       "    (encoder): BertEncoder(\n",
       "      (layer): ModuleList(\n",
       "        (0-11): 12 x BertLayer(\n",
       "          (attention): BertAttention(\n",
       "            (self): BertSdpaSelfAttention(\n",
       "              (query): LoRALinear(\n",
       "                (linear): Linear(in_features=768, out_features=768, bias=True)\n",
       "              )\n",
       "              (key): Linear(in_features=768, out_features=768, bias=True)\n",
       "              (value): LoRALinear(\n",
       "                (linear): Linear(in_features=768, out_features=768, bias=True)\n",
       "              )\n",
       "              (dropout): Dropout(p=0.1, inplace=False)\n",
       "            )\n",
       "            (output): BertSelfOutput(\n",
       "              (dense): Linear(in_features=768, out_features=768, bias=True)\n",
       "              (LayerNorm): LayerNorm((768,), eps=1e-12, elementwise_affine=True)\n",
       "              (dropout): Dropout(p=0.1, inplace=False)\n",
       "            )\n",
       "          )\n",
       "          (intermediate): BertIntermediate(\n",
       "            (dense): Linear(in_features=768, out_features=3072, bias=True)\n",
       "            (intermediate_act_fn): GELUActivation()\n",
       "          )\n",
       "          (output): BertOutput(\n",
       "            (dense): Linear(in_features=3072, out_features=768, bias=True)\n",
       "            (LayerNorm): LayerNorm((768,), eps=1e-12, elementwise_affine=True)\n",
       "            (dropout): Dropout(p=0.1, inplace=False)\n",
       "          )\n",
       "        )\n",
       "      )\n",
       "    )\n",
       "    (pooler): BertPooler(\n",
       "      (dense): Linear(in_features=768, out_features=768, bias=True)\n",
       "      (activation): Tanh()\n",
       "    )\n",
       "  )\n",
       "  (output_layer): Linear(in_features=768, out_features=21128, bias=True)\n",
       ")"
      ]
     },
     "execution_count": 27,
     "metadata": {},
     "output_type": "execute_result"
    }
   ],
   "execution_count": 27
  },
  {
   "metadata": {
    "ExecuteTime": {
     "end_time": "2025-08-04T03:04:04.317920Z",
     "start_time": "2025-08-04T03:04:04.081159Z"
    }
   },
   "cell_type": "code",
   "source": [
    "import warnings\n",
    "warnings.filterwarnings(\"ignore\", message=\"`encoder_attention_mask` is deprecated and will be removed in version 4.55.0\")\n",
    "\n",
    "token = tokenizer([\"你好\"],return_tensors=\"pt\") # 分词   return_tensors=\"pt\" 指定返回 torch.tensor 格式\n",
    "print('token:',token)\n",
    "token=token.to(device)\n",
    "out = llm(input_ids=token.input_ids,attention_mask=token.attention_mask,token_type_ids=token.token_type_ids) # 改模型需要 3 个入参其组合使用的分词器都能产生\n",
    "size= token.input_ids.shape[1]\n",
    "print(\"size\",size)\n",
    "print('out:',out[:,:3,:].shape)\n",
    "print('',tokenizer.decode(token.input_ids.view(-1)))"
   ],
   "id": "f1da6c06ebb40927",
   "outputs": [
    {
     "name": "stdout",
     "output_type": "stream",
     "text": [
      "token: {'input_ids': tensor([[ 101,  872, 1962,  102]]), 'token_type_ids': tensor([[0, 0, 0, 0]]), 'attention_mask': tensor([[1, 1, 1, 1]])}\n",
      "size 4\n",
      "out: torch.Size([1, 3, 21128])\n",
      " [CLS] 你 好 [SEP]\n"
     ]
    }
   ],
   "execution_count": 20
  },
  {
   "metadata": {
    "ExecuteTime": {
     "end_time": "2025-08-04T03:05:41.752509Z",
     "start_time": "2025-08-04T03:05:37.693736Z"
    }
   },
   "cell_type": "code",
   "source": [
    "from torch.optim import AdamW\n",
    "import torch.nn.functional as F\n",
    "\n",
    "history = \"[CLS]我是邵康，我最喜欢玩原神了[SEP]\"\n",
    "\n",
    "optimizer = AdamW(llm.parameters(), lr=3e-4) # 定义优化器\n",
    "epoch = 100\n",
    "loss_arr =[]\n",
    "for item in range(epoch): # 训练 100 轮\n",
    "    token = tokenizer([history],return_tensors=\"pt\") # 分词   return_tensors=\"pt\" 指定返回 torch.tensor 格式\n",
    "    token=token.to(device)\n",
    "    out = llm(input_ids=token.input_ids,attention_mask=token.attention_mask,token_type_ids=token.token_type_ids)\n",
    "    size= token.input_ids.shape[1]\n",
    "    prob = out[:,:size-1,:].view(size-1,-1) # n * 21128\n",
    "    res = token.input_ids[:,1:].view(-1) #  n\n",
    "    loss = F.cross_entropy(prob, res) # 计算交叉熵\n",
    "    # 反向传播\n",
    "    optimizer.zero_grad()\n",
    "    loss.backward()\n",
    "    optimizer.step() # 调整参数\n",
    "    loss_arr.append(loss.item()) # 收集损失值"
   ],
   "id": "edafe10bd12bec8f",
   "outputs": [],
   "execution_count": 28
  },
  {
   "metadata": {
    "ExecuteTime": {
     "end_time": "2025-08-04T03:05:44.289734Z",
     "start_time": "2025-08-04T03:05:44.230276Z"
    }
   },
   "cell_type": "code",
   "source": [
    "import matplotlib.pyplot as plt\n",
    "\n",
    "# 步骤2：创建画布（可选，默认会自动创建）\n",
    "plt.figure(figsize=(8, 4))  # 设置画布大小，宽8英寸，高4英寸\n",
    "# 步骤3：绘制折线图\n",
    "plt.plot(list(range(len(loss_arr))), loss_arr)  # 核心函数：plot(x轴数据, y轴数据)\n",
    "# 步骤4：添加标签、标题等装饰\n",
    "plt.xlabel('X', fontsize=12)  # x轴标签\n",
    "plt.ylabel('Y', fontsize=12)  # y轴标签\n",
    "plt.title('Loss', fontsize=14)  # 图表标题\n",
    "\n",
    "# 步骤5：显示图表\n",
    "plt.show()"
   ],
   "id": "cdeaf3de88e6eee4",
   "outputs": [
    {
     "data": {
      "text/plain": [
       "<Figure size 800x400 with 1 Axes>"
      ],
      "image/png": "[encoded data removed]"
     },
     "metadata": {},
     "output_type": "display_data"
    }
   ],
   "execution_count": 29
  },
  {
   "metadata": {
    "ExecuteTime": {
     "end_time": "2025-08-04T03:16:54.513345Z",
     "start_time": "2025-08-04T03:16:52.934048Z"
    }
   },
   "cell_type": "code",
   "source": [
    "print(tokenizer.model_max_length) # 最大上下文长度  512\n",
    "def generate(str,max_len=256): # 总长度尽量不要超过 512\n",
    "    for i in range(max_len):\n",
    "        token = tokenizer([str],return_tensors=\"pt\") # 分词   return_tensors=\"pt\" 指定返回 torch.tensor 格式\n",
    "        token=token.to(device)\n",
    "        res = llm(input_ids=token.input_ids,attention_mask=token.attention_mask,token_type_ids=token.token_type_ids)\n",
    "        res = F.softmax(res, dim=-1)\n",
    "        size = res.shape[1]\n",
    "        res =res[:,size-1:].view(-1)   # 只要预测的最后一个词即可\n",
    "        res = torch.multinomial(res, num_samples=1)\n",
    "        res= tokenizer.decode(res) # 解码为中文\n",
    "        str+=res # 添加进字符串用于下轮预测\n",
    "    return str  # 返回最终结果\n",
    "\n",
    "print(generate(\"我是\",max_len=32))"
   ],
   "id": "55e3bd43de58def2",
   "outputs": [
    {
     "name": "stdout",
     "output_type": "stream",
     "text": [
      "512\n",
      "我是articlesimon##蓝[CLS]##察，##缨kiss##展是最喜最欢[SEP]神[SEP][CLS]欢[SEP]玩玩玩[CLS]，是我康pizza了[SEP]神\n"
     ]
    }
   ],
   "execution_count": 33
  }
 ],
 "metadata": {
  "kernelspec": {
   "display_name": "Python 3",
   "language": "python",
   "name": "python3"
  },
  "language_info": {
   "codemirror_mode": {
    "name": "ipython",
    "version": 2
   },
   "file_extension": ".py",
   "mimetype": "text/x-python",
   "name": "python",
   "nbconvert_exporter": "python",
   "pygments_lexer": "ipython2",
   "version": "2.7.6"
  }
 },
 "nbformat": 4,
 "nbformat_minor": 5
}
